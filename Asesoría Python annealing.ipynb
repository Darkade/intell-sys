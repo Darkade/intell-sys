{
 "cells": [
  {
   "cell_type": "markdown",
   "metadata": {},
   "source": [
    "Esta es una clase abstracta clase SensorNetworksProblem que tu definas tiene que estar basada en esta"
   ]
  },
  {
   "cell_type": "code",
   "execution_count": 2,
   "metadata": {},
   "outputs": [],
   "source": [
    "class Problem(object):\n",
    "\n",
    "    \"\"\"The abstract class for a formal problem. You should subclass\n",
    "    this and implement the methods actions and result, and possibly\n",
    "    __init__, goal_test, and path_cost. Then you will create instances\n",
    "    of your subclass and solve them with the various search functions.\"\"\"\n",
    "\n",
    "    def __init__(self, initial, goal=None):\n",
    "        \"\"\"The constructor specifies the initial state, and possibly a goal\n",
    "        state, if there is a unique goal. Your subclass's constructor can add\n",
    "        other arguments.\"\"\"\n",
    "        self.initial = initial\n",
    "        self.goal = goal\n",
    "\n",
    "    def actions(self, state):\n",
    "        \"\"\"Return the actions that can be executed in the given\n",
    "        state. The result would typically be a list, but if there are\n",
    "        many actions, consider yielding them one at a time in an\n",
    "        iterator, rather than building them all at once.\"\"\"\n",
    "        raise NotImplementedError\n",
    "\n",
    "    def result(self, state, action):\n",
    "        \"\"\"Return the state that results from executing the given\n",
    "        action in the given state. The action must be one of\n",
    "        self.actions(state).\"\"\"\n",
    "        raise NotImplementedError\n",
    "\n",
    "    def goal_test(self, state):\n",
    "        \"\"\"Return True if the state is a goal. The default method compares the\n",
    "        state to self.goal or checks for state in self.goal if it is a\n",
    "        list, as specified in the constructor. Override this method if\n",
    "        checking against a single self.goal is not enough.\"\"\"\n",
    "        if isinstance(self.goal, list):\n",
    "            return is_in(state, self.goal)\n",
    "        else:\n",
    "            return state == self.goal\n",
    "\n",
    "    def path_cost(self, c, state1, action, state2):\n",
    "        \"\"\"Return the cost of a solution path that arrives at state2 from\n",
    "        state1 via action, assuming cost c to get up to state1. If the problem\n",
    "        is such that the path doesn't matter, this function will only look at\n",
    "        state2.  If the path does matter, it will consider c and maybe state1\n",
    "        and action. The default method costs 1 for every step in the path.\"\"\"\n",
    "        return c + 1\n",
    "\n",
    "    def value(self, state):\n",
    "        \"\"\"For optimization problems, each state has a value.  Hill-climbing\n",
    "        and related algorithms try to maximize this value.\"\"\"\n",
    "        raise NotImplementedError"
   ]
  },
  {
   "cell_type": "markdown",
   "metadata": {},
   "source": [
    "Esta clase Node crea un arbol de vecindarios a partir de un estado inicial y te permite trackear los vencindarios padre. Seguramente no requiere ninguna modificación de tu parte y solo es utilizada en la función simulated_annealing"
   ]
  },
  {
   "cell_type": "code",
   "execution_count": null,
   "metadata": {},
   "outputs": [],
   "source": [
    "## Esta clase probablemente no tienes que modificarla\n",
    "\n",
    "class Node:\n",
    "\n",
    "    \"\"\"A node in a search tree. Contains a pointer to the parent (the node\n",
    "    that this is a successor of) and to the actual state for this node. Note\n",
    "    that if a state is arrived at by two paths, then there are two nodes with\n",
    "    the same state.  Also includes the action that got us to this state, and\n",
    "    the total path_cost (also known as g) to reach the node.  Other functions\n",
    "    may add an f and h value; see best_first_graph_search and astar_search for\n",
    "    an explanation of how the f and h values are handled. You will not need to\n",
    "    subclass this class.\"\"\"\n",
    "\n",
    "    def __init__(self, state, parent=None, action=None, path_cost=0):\n",
    "        \"\"\"Create a search tree Node, derived from a parent by an action.\"\"\"\n",
    "        self.state = state\n",
    "        self.parent = parent\n",
    "        self.action = action\n",
    "        self.path_cost = path_cost\n",
    "        self.depth = 0\n",
    "        if parent:\n",
    "            self.depth = parent.depth + 1\n",
    "\n",
    "    def __repr__(self):\n",
    "        return \"<Node {}>\".format(self.state)\n",
    "\n",
    "    def __lt__(self, node):\n",
    "        return self.state < node.state\n",
    "\n",
    "    def expand(self, problem):\n",
    "        \"\"\"List the nodes reachable in one step from this node.\"\"\"\n",
    "        return [self.child_node(problem, action)\n",
    "                for action in problem.actions(self.state)]\n",
    "\n",
    "    def child_node(self, problem, action):\n",
    "        \"\"\"[Figure 3.10]\"\"\"\n",
    "        next_state = problem.result(self.state, action)\n",
    "        next_node = Node(next_state, self, action,\n",
    "                    problem.path_cost(self.path_cost, self.state,\n",
    "                                      action, next_state))\n",
    "        return next_node\n",
    "    \n",
    "    def solution(self):\n",
    "        \"\"\"Return the sequence of actions to go from the root to this node.\"\"\"\n",
    "        return [node.action for node in self.path()[1:]]\n",
    "\n",
    "    def path(self):\n",
    "        \"\"\"Return a list of nodes forming the path from the root to this node.\"\"\"\n",
    "        node, path_back = self, []\n",
    "        while node:\n",
    "            path_back.append(node)\n",
    "            node = node.parent\n",
    "        return list(reversed(path_back))\n",
    "\n",
    "    # We want for a queue of nodes in breadth_first_graph_search or\n",
    "    # astar_search to have no duplicated states, so we treat nodes\n",
    "    # with the same state as equal. [Problem: this may not be what you\n",
    "    # want in other contexts.]\n",
    "\n",
    "    def __eq__(self, other):\n",
    "        return isinstance(other, Node) and self.state == other.state\n",
    "\n",
    "    def __hash__(self):\n",
    "        return hash(self.state)"
   ]
  },
  {
   "cell_type": "markdown",
   "metadata": {},
   "source": [
    "Esta función define el algoritmo de simulated annealing y emplea un problema que definas tu y la case Node"
   ]
  },
  {
   "cell_type": "code",
   "execution_count": null,
   "metadata": {},
   "outputs": [],
   "source": [
    "## No debería haber necesidad de que alteraras este código\n",
    "\n",
    "def simulated_annealing(problem, schedule=exp_schedule()):\n",
    "    \"\"\"[Figure 4.5] CAUTION: This differs from the pseudocode as it\n",
    "    returns a state instead of a Node.\"\"\"\n",
    "    current = Node(problem.initial)\n",
    "    for t in range(sys.maxsize):\n",
    "        T = schedule(t)\n",
    "        if T == 0:\n",
    "            return current.state\n",
    "        neighbors = current.expand(problem)\n",
    "        if not neighbors:\n",
    "            return current.state\n",
    "        next_choice = random.choice(neighbors)\n",
    "        delta_e = problem.value(next_choice.state) - problem.value(current.state)\n",
    "        if delta_e > 0 or probability(math.exp(delta_e / T)):\n",
    "            current = next_choice"
   ]
  },
  {
   "cell_type": "markdown",
   "metadata": {},
   "source": [
    "Esta función imprime el grid de acuerdo al libro (del lado izquierdo)\n",
    "\n",
    "Para sacar el del lado derecho puedes basarte en esta función"
   ]
  },
  {
   "cell_type": "code",
   "execution_count": null,
   "metadata": {},
   "outputs": [],
   "source": [
    "    def printgrid(self, rows):\n",
    "        i = 1\n",
    "\n",
    "        for row in rows:\n",
    "            if i == 1:\n",
    "                print(\" \", \" \".join([str(i + 1) for i in range(len(rows))]))\n",
    "         \n",
    "            print(i, \" \".join([ '-' if cell == 1 else 'X' for cell in row  ]))\n",
    "            i += 1"
   ]
  },
  {
   "cell_type": "markdown",
   "metadata": {},
   "source": [
    "Esta es una implementación de un problema. Nota que esta \"sobrecargando\" los métodos de la clase abstracta Problem.\n",
    "\n",
    "Tu tendrías que definir tu propia clase SensorNetworksProblem de un modo muy parecido a esta"
   ]
  },
  {
   "cell_type": "code",
   "execution_count": null,
   "metadata": {},
   "outputs": [],
   "source": [
    "# Implementation Example\n",
    "# Linea 724 search.py\n",
    "\n",
    "class PeakFindingProblem(Problem):\n",
    "    \"\"\"Problem of finding the highest peak in a limited grid\"\"\"\n",
    "\n",
    "    def __init__(self, initial, grid, defined_actions=directions4):\n",
    "        \"\"\"The grid is a 2 dimensional array/list whose state is specified by tuple of indices\"\"\"\n",
    "        Problem.__init__(self, initial)\n",
    "        self.grid = grid\n",
    "        self.defined_actions = defined_actions\n",
    "        self.n = len(grid)\n",
    "        assert self.n > 0\n",
    "        self.m = len(grid[0])\n",
    "        assert self.m > 0\n",
    "\n",
    "    def actions(self, state):\n",
    "        \"\"\"Returns the list of actions which are allowed to be taken from the given state\"\"\"\n",
    "        allowed_actions = []\n",
    "        for action in self.defined_actions:\n",
    "            next_state = vector_add(state, self.defined_actions[action])\n",
    "            if next_state[0] >= 0 and next_state[1] >= 0 and next_state[0] <= self.n - 1 and next_state[1] <= self.m - 1:\n",
    "                allowed_actions.append(action)\n",
    "\n",
    "        return allowed_actions\n",
    "\n",
    "    def result(self, state, action):\n",
    "        \"\"\"Moves in the direction specified by action\"\"\"\n",
    "        return vector_add(state, self.defined_actions[action])\n",
    "\n",
    "    def value(self, state):\n",
    "        \"\"\"Value of a state is the value it is the index to\"\"\"\n",
    "        x, y = state\n",
    "        assert 0 <= x < self.n\n",
    "        assert 0 <= y < self.m\n",
    "        return self.grid[x][y]"
   ]
  },
  {
   "cell_type": "markdown",
   "metadata": {},
   "source": [
    "Para llegar a tu clase de SensorNetworksProblem tienes que poner mucha atención en los actions. Porque a diferencia del PeakFindingProblem tu estas moviendo N sensores de distinta cobertura sobre el grid. Recuerda que el método actions te devuelve una lista las acciones válidas"
   ]
  },
  {
   "cell_type": "code",
   "execution_count": null,
   "metadata": {},
   "outputs": [],
   "source": [
    "class SensorNetworksProblem(Problem):\n",
    "    def __init__(self, initial, sensors_range, grid, defined_actions):\n",
    "        super().__init__(initial)\n",
    "        # Defines grid\n",
    "    \n",
    "    def actions(self, state):\n",
    "        \"\"\" Defines possible actions from the current state\"\"\"\n",
    "        # Mover sensor izquierda, arriba abajo. Validar que es posible porque no esta fuera del grid\n",
    "        # o que los sensores esten \"encimados\"\n",
    "        # return allowed_actions\n",
    "        # una lista de las combinaciones de las acciones aplicadas para cada sensor\n",
    "        \n",
    "        \n",
    "    def result(self, state, action):\n",
    "        \"\"\" Toma un estado y aplica la acción determinada \"\"\"\n",
    "       # return applyaction(state,action)\n",
    "    def value(self, state):\n",
    "        \"\"\" Evalua un estado \"\"\"\n",
    "\n",
    "        # \n",
    "        \n",
    "        # Aquí tienes que hacer print del formato especificado en el ejercicio para la solución (state)\n",
    "        # 123456 123456 1--XX-X 111#X2# 2-XX–-- 21##–22 3XX---- ==> 3##1--- 4------ 4----33 5XXX--- 5XX#-33 6----XX 6----XX\n",
    "        \n",
    "        # return valor objetivo es la cuenta de el número de \"unos\" del grid estan cubriendo los sensores\n",
    "        # Un modo de hacerlo es iterar sobre cada una de las \"celdas\" del grid y preguntar si ahí hay un sensor\n",
    "        "
   ]
  },
  {
   "cell_type": "markdown",
   "metadata": {},
   "source": [
    "Para ser utilizado necesitas un estadio inicial de los sensores, el grid sobre el que vas a trabajar y las acciones, que básicamente es mover los sensores en los puntos cardinales"
   ]
  },
  {
   "cell_type": "code",
   "execution_count": null,
   "metadata": {},
   "outputs": [],
   "source": [
    "sensors_range = [3,2,2,1]\n",
    "initial = [(1,1), (1,5), (4,5), (5,3)] # Dónde empiezan nuestros 4 sensores\n",
    "grid = [[1,1,0,0,1,0], [1,0,0,1,1,1], [0,0,1,1,1,1], [1,1,1,1,1,1], [0,0,0,1,1,1], [1,1,1,1,0,0]] #definido en el ejercicio\n",
    "defined_actions = {'E': (1, 0), 'N': (0, 1), 'S': (0, -1), 'W': (-1, 0)}\n",
    "\n",
    "\n",
    "\n",
    "\n",
    "\n",
    "myproblem = SensorNetworksProblem(initial, sensors_range, grid, defined_actions)\n",
    "\n",
    "solutions = {problem.value(simulated_annealing(problem)) for i in range(100)}\n",
    "max(solutions)"
   ]
  }
 ],
 "metadata": {
  "kernelspec": {
   "display_name": "Python 3",
   "language": "python",
   "name": "python3"
  },
  "language_info": {
   "codemirror_mode": {
    "name": "ipython",
    "version": 3
   },
   "file_extension": ".py",
   "mimetype": "text/x-python",
   "name": "python",
   "nbconvert_exporter": "python",
   "pygments_lexer": "ipython3",
   "version": "3.7.0"
  }
 },
 "nbformat": 4,
 "nbformat_minor": 2
}
